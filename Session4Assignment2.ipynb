{
 "cells": [
  {
   "cell_type": "code",
   "execution_count": 3,
   "metadata": {},
   "outputs": [
    {
     "name": "stdout",
     "output_type": "stream",
     "text": [
      "[11, 7, 7, 7, 6, 9, 7, 5, 9, 7]\n",
      "True\n",
      "False\n"
     ]
    }
   ],
   "source": [
    "# 1. Write a Python program using function concept that maps list of words into a list of integers\n",
    "# representing the lengths of the corresponding words .\n",
    "\n",
    "def wordtolength(wordlist):\n",
    "    tempwordlist = []\n",
    "    for word in wordlist:\n",
    "        tempwordlist.append(len(word))\n",
    "    return tempwordlist\n",
    "\n",
    "countrynames = [\"Afghanistan\",\"Albania\", \"Algeria\", \"Andorra\", \"Angola\", \"Argentina\", \"Armenia\", \"Aruba\", \"Australia\",\"Austria\"]\n",
    "print(wordtolength(countrynames))\n",
    " \n",
    "# 2. Write a Python function which takes a character (i.e. a string of length 1) and returns True if it is\n",
    "# a vowel, False otherwise.\n",
    "                                 \n",
    "def vowelcheck(char):\n",
    "    if char == (\"a\" or \"e\" or \"i\" or \"o\" or \"u\"):\n",
    "        return True\n",
    "    else:\n",
    "        return False\n",
    "        \n",
    "        \n",
    "print(vowelcheck(\"a\"))\n",
    "print(vowelcheck(\"z\"))\n"
   ]
  },
  {
   "cell_type": "code",
   "execution_count": null,
   "metadata": {},
   "outputs": [],
   "source": []
  }
 ],
 "metadata": {
  "kernelspec": {
   "display_name": "Python 3",
   "language": "python",
   "name": "python3"
  },
  "language_info": {
   "codemirror_mode": {
    "name": "ipython",
    "version": 3
   },
   "file_extension": ".py",
   "mimetype": "text/x-python",
   "name": "python",
   "nbconvert_exporter": "python",
   "pygments_lexer": "ipython3",
   "version": "3.6.4"
  }
 },
 "nbformat": 4,
 "nbformat_minor": 2
}
